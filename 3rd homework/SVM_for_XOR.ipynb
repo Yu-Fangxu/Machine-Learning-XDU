{
  "nbformat": 4,
  "nbformat_minor": 0,
  "metadata": {
    "colab": {
      "name": "SVM for XOR.ipynb",
      "provenance": [],
      "collapsed_sections": []
    },
    "kernelspec": {
      "name": "python3",
      "display_name": "Python 3"
    },
    "language_info": {
      "name": "python"
    }
  },
  "cells": [
    {
      "cell_type": "markdown",
      "metadata": {
        "id": "SpQI_sJEdPjI"
      },
      "source": [
        "###实现原理参考李航《统计学习方法》第七章支持向量机"
      ]
    },
    {
      "cell_type": "code",
      "metadata": {
        "colab": {
          "base_uri": "https://localhost:8080/",
          "height": 500
        },
        "id": "-B5r0zpPSdf7",
        "outputId": "7249c467-33aa-4219-9465-25dcf77a2025"
      },
      "source": [
        "import numpy as np\n",
        "import cvxpy as cp\n",
        "import matplotlib.pyplot as plt\n",
        "\n",
        "class SVM:\n",
        "  def polynomial(self, x, y, p):\n",
        "    return (1 + np.dot(x, y))**p\n",
        "\n",
        "  def __init__(self, x, y, p=2):\n",
        "    self.x = x\n",
        "    self.y = y\n",
        "    self.G = np.dot(self.y, y.T) * self.polynomial(self.x, self.x.T, 2)\n",
        "    self.m = len(self.y) \n",
        "    self.d = self.x.shape[1] \n",
        "    self.a = cp.Variable(shape=(self.m,1),pos=True)\n",
        "    self.C = 100\n",
        "    self.p = p\n",
        "  \n",
        "  def train(self, x, y):\n",
        "    objective = cp.Maximize(cp.sum(self.a)-(1/2)*cp.quad_form(self.a, self.G))\n",
        "    constraints = [self.a <= self.C, cp.sum(cp.multiply(self.a,self.y)) == 0] # box constraint\n",
        "    prob = cp.Problem(objective, constraints)\n",
        "    result = prob.solve()\n",
        "    # print(self.a.value)\n",
        "  \n",
        "  def predict(self, t):\n",
        "    for i, data in enumerate(self.a.value):\n",
        "      if data > 0 and data < self.C:\n",
        "        break\n",
        "    b = self.y[0][i] - sum([self.a.value[j][0] * self.y[j] * self.polynomial(self.x[i], self.x[j], self.p) for j in range(len(self.x))])\n",
        "    res = (sum([self.a.value[j][0] * self.y[j] * self.polynomial(t, self.x[j], self.p) for j in range(len(self.x))]) + b)[0]\n",
        "    return np.sign(res)\n",
        "  \n",
        "  def score(self, t, y):\n",
        "    ans = []\n",
        "    for data in t:\n",
        "      ans.append(self.predict(data))\n",
        "    ans = np.array(ans)\n",
        "    count = 0\n",
        "    for i in range(len(t)):\n",
        "      if ans[i] == y[i]:\n",
        "        count += 1\n",
        "    return count / len(t)\n",
        "  \n",
        "  def plot(self):\n",
        "    dataset = np.hstack((self.x, self.y))\n",
        "    \n",
        "    positive = np.array([[0,0,0]])\n",
        "    negative = np.array([[0,0,0]])\n",
        "    for i in range(x.shape[0]):\n",
        "      if(dataset[i][2]==1):\n",
        "        positive = np.row_stack((positive,np.array([dataset[i]])))\n",
        "      else:\n",
        "        negative = np.row_stack((negative,np.array([dataset[i]])))\n",
        "    possitive = positive[1:, :2]\n",
        "    negative = negative[1:, :2]\n",
        "    d = 2\n",
        "    plt.scatter(possitive[:,0], possitive[:,1], color='red')\n",
        "    plt.scatter(negative[:,0], negative[:,1], color='blue')\n",
        "\n",
        "    a_result = self.a.value\n",
        "    support_vectors = np.zeros(2)\n",
        "    support_weight = np.zeros(1)\n",
        "    for i in range(a_result.shape[0]):\n",
        "      if a_result[i] > 0:\n",
        "        support_vectors = np.row_stack((support_vectors, self.x[i]))\n",
        "        support_weight = np.row_stack((support_weight, a_result[i] * self.y[i]))\n",
        "    support_vectors = support_vectors[1:]\n",
        "    support_weight = support_weight[1:]\n",
        "    \n",
        "    grid_x = np.linspace(-1,2,100)\n",
        "    grid_y = np.linspace(-1,2,100)\n",
        "    grid = np.dstack(np.meshgrid(grid_x, grid_y)).reshape(-1, 2)\n",
        "    q = np.zeros(1)\n",
        "    a_result[a_result<10**-3] = 0\n",
        "    for j in range(support_vectors.shape[0]):\n",
        "        p = np.zeros(1)\n",
        "        for i in range(support_vectors.shape[0]):\n",
        "          p += support_weight[i] * self.polynomial(support_vectors[i], support_vectors[j].T ,self.p)\n",
        "        for i in range(a_result.shape[0]):\n",
        "            if a_result[i] > 0:\n",
        "                q = self.y[i]-p\n",
        "    X, Y = np.meshgrid(grid_x,grid_y)\n",
        "    result_con=[]\n",
        "    for j in range(grid.shape[0]):\n",
        "      result = np.zeros(1)\n",
        "      for i in range(support_vectors.shape[0]):\n",
        "        result += support_weight[i] * self.polynomial(support_vectors[i],grid[j].T,self.p)\n",
        "          \n",
        "      result_con.append(result+q)\n",
        "    result_con = np.array(result_con)\n",
        "    result_con = result_con.reshape(X.shape)\n",
        "    plt.contour(X, Y, result_con, [-1,0,1], colors=['k'])\n",
        "\n",
        "if __name__ == \"__main__\":\n",
        "  x=np.array([[0,0], [1,1], [0,1], [1,0]])\n",
        "  y=np.array([[1], [1], [-1], [-1]])\n",
        "  for j in range(1, 10): \n",
        "    svm = SVM(x, y, j)\n",
        "    svm.train(x, y)\n",
        "    print(\"The parameter of polynomial is:\", j)\n",
        "    for i in range(len(x)):\n",
        "      print(x[i], \"predicted result is:\", svm.predict(x[i]))\n",
        "    print(\"The accuracy is:\", svm.score(x, y))\n",
        "    if svm.score(x, y) == 1.0:\n",
        "      break\n",
        "  print(\"The minimum value of p is:\", j)\n",
        "  svm.plot()"
      ],
      "execution_count": 2,
      "outputs": [
        {
          "output_type": "stream",
          "text": [
            "The parameter of polynomial is: 1\n",
            "[0 0] predicted result is: 1.0\n",
            "[1 1] predicted result is: -1.0\n",
            "[0 1] predicted result is: 1.0\n",
            "[1 0] predicted result is: 1.0\n",
            "The accuracy is: 0.25\n",
            "The parameter of polynomial is: 2\n",
            "[0 0] predicted result is: 1.0\n",
            "[1 1] predicted result is: 1.0\n",
            "[0 1] predicted result is: -1.0\n",
            "[1 0] predicted result is: -1.0\n",
            "The accuracy is: 1.0\n",
            "The minimum value of p is: 2\n"
          ],
          "name": "stdout"
        },
        {
          "output_type": "display_data",
          "data": {
            "image/png": "[encoded data removed]",
            "text/plain": [
              "<Figure size 432x288 with 1 Axes>"
            ]
          },
          "metadata": {
            "tags": [],
            "needs_background": "light"
          }
        }
      ]
    }
  ]
}